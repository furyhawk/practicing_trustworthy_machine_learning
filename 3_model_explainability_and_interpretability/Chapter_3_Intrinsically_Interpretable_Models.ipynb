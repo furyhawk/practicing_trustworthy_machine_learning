{
  "cells": [
    {
      "cell_type": "markdown",
      "metadata": {
        "id": "7cnfdVjNqktr"
      },
      "source": [
        "# Chapter 3: Intrinsically Interpretable Models\n",
        "\n",
        "\n",
        "| Chapter  | Colab   | Kaggle          | Gradient      | Studio Lab             | Binder             |\n",
        "|:---------|:--------|:----------------|:--------------|:-----------------------|:-------------------|\n",
        "| [Chapter 3: Intrinsically Interpretable Models](3_model_explainability_and_interpretability/Chapter_3_Intrinsically_Interpretable_Models.ipynb)                          | [![Open In Colab](https://colab.research.google.com/assets/colab-badge.svg)](https://colab.research.google.com/github/matthew-mcateer/practicing_trustworthy_machine_learning/blob/main/3_model_explainability_and_interpretability/Chapter_3_Intrinsically_Interpretable_Models.ipynb)        | [![Kaggle](https://kaggle.com/static/images/open-in-kaggle.svg)](https://kaggle.com/kernels/welcome?src=https://github.com/matthew-mcateer/practicing_trustworthy_machine_learning/blob/main/3_model_explainability_and_interpretability/Chapter_3_Intrinsically_Interpretable_Models.ipynb)        | [![Gradient](https://assets.paperspace.io/img/gradient-badge.svg)](https://console.paperspace.com/github/matthew-mcateer/practicing_trustworthy_machine_learning/blob/main/3_model_explainability_and_interpretability/Chapter_3_Intrinsically_Interpretable_Models.ipynb)        | [![Open In SageMaker Studio Lab](https://studiolab.sagemaker.aws/studiolab.svg)](https://studiolab.sagemaker.aws/import/github/matthew-mcateer/practicing_trustworthy_machine_learning/blob/main/3_model_explainability_and_interpretability/Chapter_3_Intrinsically_Interpretable_Models.ipynb)       | [![Binder](https://mybinder.org/badge_logo.svg)](https://mybinder.org/v2/gh/matthew-mcateer/practicing_trustworthy_machine_learning/HEAD?urlpath=https%3A%2F%2Fgithub.com%2Fmatthew-mcateer%2Fpracticing_trustworthy_machine_learning%2Fblob%2Fmain%2F3_model_explainability_and_interpretability%2FChapter_3_Intrinsically_Interpretable_Models.ipynb)        |\n",
        "\n",
        "\n",
        "<!--\n",
        "Originally found on GitHub at https://github.com/matthew-mcateer/practicing_trustworthy_machine_learning/blob/main/3_model_explainability_and_interpretability/Chapter_3_Intrinsically_Interpretable_Models.ipynb\n",
        "-->"
      ]
    },
    {
      "cell_type": "code",
      "execution_count": 36,
      "metadata": {
        "colab": {
          "base_uri": "https://localhost:8080/"
        },
        "id": "9BeV9T2TqrZp",
        "outputId": "c65f4d6b-225a-4530-b59f-87b5b6eecb90"
      },
      "outputs": [
        {
          "name": "stdout",
          "output_type": "stream",
          "text": [
            "\u001b[K     |████████████████████████████████| 62 kB 640 kB/s \n",
            "\u001b[K     |████████████████████████████████| 68 kB 7.7 MB/s \n",
            "\u001b[?25hThe watermark extension is already loaded. To reload it, use:\n",
            "  %reload_ext watermark\n",
            "Author: Practicing Trustworthy machine Learning\n",
            "\n",
            "Last updated: 2022-12-05\n",
            "\n",
            "Python implementation: CPython\n",
            "Python version       : 3.8.15\n",
            "IPython version      : 7.9.0\n",
            "\n",
            "sklearnex: unknown\n",
            "sklearn  : 1.0.2\n",
            "numpy    : 1.21.6\n",
            "pygam    : 0.8.0\n",
            "interpret: 0.3.0\n",
            "pandas   : 1.3.5\n",
            "pysr     : 0.11.11\n",
            "\n",
            "Compiler    : GCC 7.5.0\n",
            "OS          : Linux\n",
            "Release     : 5.10.133+\n",
            "Machine     : x86_64\n",
            "Processor   : x86_64\n",
            "CPU cores   : 8\n",
            "Architecture: 64bit\n",
            "\n"
          ]
        }
      ],
      "source": [
        "#@title Installing dependencies { display-mode: \"form\" }\n",
        "!pip -qq install scikit-learn-intelex scikit-learn watermark pygam interpret pandas pysr xgboost\n",
        "%load_ext watermark\n",
        "%watermark -a \"Practicing Trustworthy machine Learning\" -u -d -v -m -p sklearnex,sklearn,numpy,pygam,interpret,pandas,pysr,xgboost"
      ]
    }
  ],
  "metadata": {
    "accelerator": "GPU",
    "colab": {
      "machine_shape": "hm",
      "provenance": []
    },
    "kernelspec": {
      "display_name": "Python 3.9.0 64-bit ('3.9.0')",
      "language": "python",
      "name": "python3"
    },
    "language_info": {
      "name": "python",
      "version": "3.9.0"
    },
    "vscode": {
      "interpreter": {
        "hash": "b6b7e97e50c754c7aee36d85160e6764033ec8a20165f676e018446c78d531c2"
      }
    }
  },
  "nbformat": 4,
  "nbformat_minor": 0
}
